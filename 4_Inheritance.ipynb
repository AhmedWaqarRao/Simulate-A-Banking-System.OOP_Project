{
 "cells": [
  {
   "cell_type": "code",
   "execution_count": 1,
   "metadata": {},
   "outputs": [],
   "source": [
    "class Apple:\n",
    "    manufacturer='Apple Inc.'\n",
    "    contactwebsite='www.apple.com/contact'\n",
    "    \n",
    "    def contactdetails(self):\n",
    "        print('To contact us, log on to ', self.contactwebsite)"
   ]
  },
  {
   "cell_type": "code",
   "execution_count": 2,
   "metadata": {},
   "outputs": [],
   "source": [
    "class Macbook(Apple):               #apple class being inherited\n",
    "    def __init__(self):\n",
    "        self.yearofmanufacture=2017\n",
    "        \n",
    "    def manufacturedetails(self):\n",
    "        print('This Macbook was manufactured in {} by {}'.format(self.yearofmanufacture, self.manufacturer))"
   ]
  },
  {
   "cell_type": "code",
   "execution_count": 3,
   "metadata": {},
   "outputs": [
    {
     "name": "stdout",
     "output_type": "stream",
     "text": [
      "This Macbook was manufactured in 2017 by Apple Inc.\n"
     ]
    }
   ],
   "source": [
    "macbook=Macbook()\n",
    "macbook.manufacturedetails()"
   ]
  },
  {
   "cell_type": "code",
   "execution_count": 4,
   "metadata": {},
   "outputs": [
    {
     "name": "stdout",
     "output_type": "stream",
     "text": [
      "To contact us, log on to  www.apple.com/contact\n"
     ]
    }
   ],
   "source": [
    "macbook.contactdetails()   #method of parent class called by object of derived class since it has inherited all the methods and attributes"
   ]
  },
  {
   "cell_type": "markdown",
   "metadata": {},
   "source": [
    "# Multiple Inheritance "
   ]
  },
  {
   "cell_type": "code",
   "execution_count": 11,
   "metadata": {},
   "outputs": [],
   "source": [
    "class OperatingSystem:\n",
    "    multitasking=True\n",
    "    name='Mac OS'      #same attribute in both the base classes"
   ]
  },
  {
   "cell_type": "code",
   "execution_count": 12,
   "metadata": {},
   "outputs": [],
   "source": [
    "class Apple:\n",
    "    website='www.apple.com'\n",
    "    name='Apple'"
   ]
  },
  {
   "cell_type": "code",
   "execution_count": 13,
   "metadata": {},
   "outputs": [],
   "source": [
    "class Macbook(OperatingSystem, Apple):\n",
    "    def __init__(self):\n",
    "        if self.multitasking is True:\n",
    "            print('This is a multitasking system. Plase visit {} for more details '.format(self.website))\n",
    "            print('Name: ',self.name)   #which name will be printed depends on the order of inheritance of base classes in the parentheses(1st line of class)"
   ]
  },
  {
   "cell_type": "code",
   "execution_count": 14,
   "metadata": {},
   "outputs": [
    {
     "name": "stdout",
     "output_type": "stream",
     "text": [
      "This is a multitasking system. Plase visit www.apple.com for more details \n",
      "Name:  Mac OS\n"
     ]
    }
   ],
   "source": [
    "macbook=Macbook()"
   ]
  },
  {
   "cell_type": "markdown",
   "metadata": {},
   "source": [
    "# MultiLevel Inheritance"
   ]
  },
  {
   "cell_type": "code",
   "execution_count": 15,
   "metadata": {},
   "outputs": [],
   "source": [
    "class MusicalInstruments:\n",
    "    numberofmajorkeys=12"
   ]
  },
  {
   "cell_type": "code",
   "execution_count": 16,
   "metadata": {},
   "outputs": [],
   "source": [
    "class StringInstruments(MusicalInstruments):       #String Instruments is the subset of Musical Instruments\n",
    "    typeofwood='ToneWood'"
   ]
  },
  {
   "cell_type": "code",
   "execution_count": 18,
   "metadata": {},
   "outputs": [],
   "source": [
    "class Guitar(StringInstruments):      #guitar is a subset of string instruments. It can also access methods and attributes of Musical Instruments because String Instruments inherits it.\n",
    "    def __init__(self):\n",
    "        self.numberofstrings=6\n",
    "        print('This guitar has {} number of strings'.format(self.numberofstrings))\n",
    "        print('It is made up of {}'.format(self.typeofwood))\n",
    "        print('It has {} major keys'.format(self.numberofmajorkeys))"
   ]
  },
  {
   "cell_type": "code",
   "execution_count": 19,
   "metadata": {},
   "outputs": [
    {
     "name": "stdout",
     "output_type": "stream",
     "text": [
      "This guitar has 6 number of strings\n",
      "It is made up of ToneWood\n",
      "It has 12 major keys\n"
     ]
    }
   ],
   "source": [
    "guitar=Guitar()"
   ]
  },
  {
   "cell_type": "markdown",
   "metadata": {},
   "source": [
    "# Access Specifiers"
   ]
  },
  {
   "cell_type": "markdown",
   "metadata": {},
   "source": [
    "Lets say we have some information on the piece of paper and we are sticking this piece of paper outside our house. So we are making this information visible to me, my family and to the public. In programming terms, when we make the members of the class as public we are maing it accessible to our class, our derived class and anywhere outside our derived class. Similarly, if we are making our members protected what we are doing is we are sticking the sheet of paper inside of our house now only me and my family has the access to it. So in programming, when we make our members as protected it is only class and derived class that has access to it. And finaly when we make our members as private, we are sticking this sheet of paper inside our room and I am the only one having access to it. So this, private member is only accessible by our class and not even our derived classes. In python, we have to name these access specifiers as public, protected and private."
   ]
  },
  {
   "cell_type": "code",
   "execution_count": 1,
   "metadata": {},
   "outputs": [],
   "source": [
    "#Public --> membername\n",
    "#Protected --> _membername\n",
    "#Private --> __membername"
   ]
  },
  {
   "cell_type": "code",
   "execution_count": 18,
   "metadata": {},
   "outputs": [],
   "source": [
    "class Car:\n",
    "    numofwheels=4       #public\n",
    "    _color='Black'\n",
    "    __yearofmanufacture=2017    #private"
   ]
  },
  {
   "cell_type": "code",
   "execution_count": 19,
   "metadata": {},
   "outputs": [
    {
     "name": "stdout",
     "output_type": "stream",
     "text": [
      "Public attribute number of wheels:  4\n"
     ]
    }
   ],
   "source": [
    "car=Car()\n",
    "print('Public attribute number of wheels: ',car.numofwheels)"
   ]
  },
  {
   "cell_type": "code",
   "execution_count": 20,
   "metadata": {},
   "outputs": [],
   "source": [
    "class Bmw(Car):\n",
    "    def __init__(self):\n",
    "        print('Protected Attribute Color: ', self._color)"
   ]
  },
  {
   "cell_type": "code",
   "execution_count": 21,
   "metadata": {},
   "outputs": [
    {
     "name": "stdout",
     "output_type": "stream",
     "text": [
      "Protected Attribute Color:  Black\n"
     ]
    }
   ],
   "source": [
    "bmw=Bmw()"
   ]
  },
  {
   "cell_type": "code",
   "execution_count": 22,
   "metadata": {},
   "outputs": [
    {
     "ename": "AttributeError",
     "evalue": "'Car' object has no attribute '__yearofmanufacture'",
     "output_type": "error",
     "traceback": [
      "\u001b[1;31m---------------------------------------------------------------------------\u001b[0m",
      "\u001b[1;31mAttributeError\u001b[0m                            Traceback (most recent call last)",
      "\u001b[1;32m<ipython-input-22-67a0423d44e6>\u001b[0m in \u001b[0;36m<module>\u001b[1;34m\u001b[0m\n\u001b[1;32m----> 1\u001b[1;33m \u001b[0mcar\u001b[0m\u001b[1;33m.\u001b[0m\u001b[0m__yearofmanufacture\u001b[0m\u001b[1;33m\u001b[0m\u001b[1;33m\u001b[0m\u001b[0m\n\u001b[0m",
      "\u001b[1;31mAttributeError\u001b[0m: 'Car' object has no attribute '__yearofmanufacture'"
     ]
    }
   ],
   "source": [
    "car.__yearofmanufacture"
   ]
  },
  {
   "cell_type": "markdown",
   "metadata": {},
   "source": [
    "When we are starting our member with two underscores name mangling is being done to our attribute. It means that the name of the attrbute is being perpended  with the underscore and the name of the clas. Though we have saved our attributes as __membername. Internally it is stored as _Class__membername (_Car__yearofmanufacture, in our case). This allows us to use private members even outside the class"
   ]
  },
  {
   "cell_type": "code",
   "execution_count": 23,
   "metadata": {},
   "outputs": [],
   "source": [
    "class Car:\n",
    "    numofwheels=4       #public\n",
    "    _color='Black'\n",
    "    __yearofmanufacture=2017    #private  . _Car__yearofmanufacture (name mangling)"
   ]
  },
  {
   "cell_type": "code",
   "execution_count": 24,
   "metadata": {},
   "outputs": [
    {
     "name": "stdout",
     "output_type": "stream",
     "text": [
      "Public attribute number of wheels:  4\n"
     ]
    }
   ],
   "source": [
    "car=Car()\n",
    "print('Public attribute number of wheels: ',car.numofwheels)"
   ]
  },
  {
   "cell_type": "code",
   "execution_count": 25,
   "metadata": {},
   "outputs": [
    {
     "data": {
      "text/plain": [
       "2017"
      ]
     },
     "execution_count": 25,
     "metadata": {},
     "output_type": "execute_result"
    }
   ],
   "source": [
    "car._Car__yearofmanufacture     #strictly advised to not access private members outside class using this method. "
   ]
  },
  {
   "cell_type": "markdown",
   "metadata": {},
   "source": [
    "# Over Riding and Polymorphism"
   ]
  },
  {
   "cell_type": "markdown",
   "metadata": {},
   "source": [
    "The same interface existing in different forms is called polymorphism. An addition between two integers 2 + 2 return 4 \n",
    "whereas an addition between two strings \"Hello\" + \"World\" concatenates it to \"Hello World\"."
   ]
  },
  {
   "cell_type": "code",
   "execution_count": 26,
   "metadata": {},
   "outputs": [],
   "source": [
    "class Employee:\n",
    "    def setnumofworkinghours(self):\n",
    "        self.numofworkinghours=40\n",
    "        \n",
    "    def displaynumofworkinghours(self):\n",
    "        print(self.numofworkinghours)"
   ]
  },
  {
   "cell_type": "code",
   "execution_count": 27,
   "metadata": {},
   "outputs": [],
   "source": [
    "class Trainee(Employee):\n",
    "    def setnumofworkinghours(self):   #Modifying the inherited behaviour of methods of a base class in a derived class is called overriding.\n",
    "        self.numofworkinghours=45"
   ]
  },
  {
   "cell_type": "code",
   "execution_count": 31,
   "metadata": {},
   "outputs": [
    {
     "name": "stdout",
     "output_type": "stream",
     "text": [
      "Number of working hours of employee:  40\n",
      "Number of working hours of Trainee:  45\n"
     ]
    }
   ],
   "source": [
    "employee=Employee()\n",
    "employee.setnumofworkinghours()\n",
    "print('Number of working hours of employee: ',end=' ')\n",
    "employee.displaynumofworkinghours()\n",
    "trainee=Trainee()\n",
    "trainee.setnumofworkinghours()\n",
    "print('Number of working hours of Trainee: ',end=' ')\n",
    "trainee.displaynumofworkinghours()     #we are calling the inherited method here"
   ]
  },
  {
   "cell_type": "markdown",
   "metadata": {},
   "source": [
    "super() is used to access the methods of base class. Let's say we want to reset the number of working hours to 40. Let's do this by accessing the methods of the base class using the super function."
   ]
  },
  {
   "cell_type": "code",
   "execution_count": 33,
   "metadata": {},
   "outputs": [],
   "source": [
    "class Employee:\n",
    "    def setnumofworkinghours(self):\n",
    "        self.numofworkinghours=40\n",
    "        \n",
    "    def displaynumofworkinghours(self):\n",
    "        print(self.numofworkinghours)"
   ]
  },
  {
   "cell_type": "code",
   "execution_count": 34,
   "metadata": {},
   "outputs": [],
   "source": [
    "class Trainee(Employee):\n",
    "    def setnumofworkinghours(self):   \n",
    "        self.numofworkinghours=45\n",
    "        \n",
    "    def resetnumofworkinghours(self):\n",
    "        super().setnumofworkinghours()"
   ]
  },
  {
   "cell_type": "code",
   "execution_count": 35,
   "metadata": {},
   "outputs": [
    {
     "name": "stdout",
     "output_type": "stream",
     "text": [
      "Number of working hours of employee:  40\n",
      "Number of working hours of Trainee:  45\n",
      "Number of working hours of Trainee after reset:  40\n"
     ]
    }
   ],
   "source": [
    "employee=Employee()\n",
    "employee.setnumofworkinghours()\n",
    "print('Number of working hours of employee: ',end=' ')\n",
    "employee.displaynumofworkinghours()\n",
    "trainee=Trainee()\n",
    "trainee.setnumofworkinghours()\n",
    "print('Number of working hours of Trainee: ',end=' ')\n",
    "trainee.displaynumofworkinghours() \n",
    "trainee.resetnumofworkinghours()\n",
    "print('Number of working hours of Trainee after reset: ',end=' ')\n",
    "trainee.displaynumofworkinghours() "
   ]
  },
  {
   "cell_type": "markdown",
   "metadata": {},
   "source": [
    "# Diamond Shape Problem in Multiple Inheritance"
   ]
  },
  {
   "cell_type": "code",
   "execution_count": 36,
   "metadata": {},
   "outputs": [],
   "source": [
    "class A:                   #case 1 method will not be overridden in class B and class C\n",
    "    def method(self):\n",
    "        print('This method belongs to class A')\n",
    "        \n",
    "class B(A):\n",
    "    pass\n",
    "\n",
    "class C(A):\n",
    "    pass\n",
    "\n",
    "class D(B,C):\n",
    "    pass"
   ]
  },
  {
   "cell_type": "code",
   "execution_count": 37,
   "metadata": {},
   "outputs": [
    {
     "name": "stdout",
     "output_type": "stream",
     "text": [
      "This method belongs to class A\n"
     ]
    }
   ],
   "source": [
    "d=D()\n",
    "d.method()"
   ]
  },
  {
   "cell_type": "markdown",
   "metadata": {},
   "source": [
    "#case 2 method will be overridden in class B but not in class C"
   ]
  },
  {
   "cell_type": "code",
   "execution_count": 38,
   "metadata": {},
   "outputs": [],
   "source": [
    "class A:                   \n",
    "    def method(self):\n",
    "        print('This method belongs to class A')\n",
    "        \n",
    "class B(A):\n",
    "    def method(self):\n",
    "        print('This method belongs to class B')\n",
    "\n",
    "class C(A):\n",
    "    pass\n",
    "\n",
    "class D(B,C):\n",
    "    pass"
   ]
  },
  {
   "cell_type": "code",
   "execution_count": 39,
   "metadata": {},
   "outputs": [
    {
     "name": "stdout",
     "output_type": "stream",
     "text": [
      "This method belongs to class B\n"
     ]
    }
   ],
   "source": [
    "d=D()\n",
    "d.method()"
   ]
  },
  {
   "cell_type": "markdown",
   "metadata": {},
   "source": [
    "#case3 method will be overridden in class C but not in class B"
   ]
  },
  {
   "cell_type": "code",
   "execution_count": 41,
   "metadata": {},
   "outputs": [],
   "source": [
    "class A:                   \n",
    "    def method(self):\n",
    "        print('This method belongs to class A')\n",
    "        \n",
    "class B(A):\n",
    "    pass\n",
    "\n",
    "class C(A):\n",
    "    def method(self):\n",
    "        print('This method belongs to class C')\n",
    "\n",
    "class D(B,C):\n",
    "    pass"
   ]
  },
  {
   "cell_type": "code",
   "execution_count": 42,
   "metadata": {},
   "outputs": [
    {
     "name": "stdout",
     "output_type": "stream",
     "text": [
      "This method belongs to class C\n"
     ]
    }
   ],
   "source": [
    "d=D()\n",
    "d.method()"
   ]
  },
  {
   "cell_type": "markdown",
   "metadata": {},
   "source": [
    "#case4 method will be overridden in both class B and in class C"
   ]
  },
  {
   "cell_type": "code",
   "execution_count": 43,
   "metadata": {},
   "outputs": [],
   "source": [
    "class A:                   \n",
    "    def method(self):\n",
    "        print('This method belongs to class A')\n",
    "        \n",
    "class B(A):\n",
    "    def method(self):\n",
    "        print('This method belongs to class B')\n",
    "\n",
    "class C(A):\n",
    "    def method(self):\n",
    "        print('This method belongs to class C')\n",
    "\n",
    "class D(B,C):     #which method will be printed depends upon the order in which we derive base classes in the derived class\n",
    "    pass"
   ]
  },
  {
   "cell_type": "code",
   "execution_count": 46,
   "metadata": {},
   "outputs": [
    {
     "name": "stdout",
     "output_type": "stream",
     "text": [
      "This method belongs to class B\n"
     ]
    }
   ],
   "source": [
    "d=D()\n",
    "d.method()      #in this base class is derived first in order so the method of class B will be printed. This is called method resolution order."
   ]
  },
  {
   "cell_type": "markdown",
   "metadata": {},
   "source": [
    "# Operator Overloading"
   ]
  },
  {
   "cell_type": "markdown",
   "metadata": {},
   "source": [
    "We wil write our own custom add method. Which is called the operator overloading or overloading the addition operator."
   ]
  },
  {
   "cell_type": "code",
   "execution_count": 47,
   "metadata": {},
   "outputs": [],
   "source": [
    "class Square:\n",
    "    def __init__(self,side):\n",
    "        self.side=side"
   ]
  },
  {
   "cell_type": "code",
   "execution_count": 48,
   "metadata": {},
   "outputs": [
    {
     "ename": "TypeError",
     "evalue": "unsupported operand type(s) for +: 'Square' and 'Square'",
     "output_type": "error",
     "traceback": [
      "\u001b[1;31m---------------------------------------------------------------------------\u001b[0m",
      "\u001b[1;31mTypeError\u001b[0m                                 Traceback (most recent call last)",
      "\u001b[1;32m<ipython-input-48-7ef1982fa724>\u001b[0m in \u001b[0;36m<module>\u001b[1;34m\u001b[0m\n\u001b[0;32m      1\u001b[0m \u001b[0msquareOne\u001b[0m\u001b[1;33m=\u001b[0m\u001b[0mSquare\u001b[0m\u001b[1;33m(\u001b[0m\u001b[1;36m5\u001b[0m\u001b[1;33m)\u001b[0m     \u001b[1;31m#5*4=20\u001b[0m\u001b[1;33m\u001b[0m\u001b[1;33m\u001b[0m\u001b[0m\n\u001b[0;32m      2\u001b[0m \u001b[0msquareTwo\u001b[0m\u001b[1;33m=\u001b[0m\u001b[0mSquare\u001b[0m\u001b[1;33m(\u001b[0m\u001b[1;36m10\u001b[0m\u001b[1;33m)\u001b[0m    \u001b[1;31m#10*4=40\u001b[0m\u001b[1;33m\u001b[0m\u001b[1;33m\u001b[0m\u001b[0m\n\u001b[1;32m----> 3\u001b[1;33m \u001b[0mprint\u001b[0m\u001b[1;33m(\u001b[0m\u001b[1;34m'Sum of sides of two squares: '\u001b[0m\u001b[1;33m,\u001b[0m \u001b[0msquareOne\u001b[0m\u001b[1;33m+\u001b[0m\u001b[0msquareTwo\u001b[0m\u001b[1;33m)\u001b[0m\u001b[1;33m\u001b[0m\u001b[1;33m\u001b[0m\u001b[0m\n\u001b[0m",
      "\u001b[1;31mTypeError\u001b[0m: unsupported operand type(s) for +: 'Square' and 'Square'"
     ]
    }
   ],
   "source": [
    "squareOne=Square(5)     #5*4=20\n",
    "squareTwo=Square(10)    #10*4=40\n",
    "print('Sum of sides of two squares: ', squareOne+squareTwo)"
   ]
  },
  {
   "cell_type": "code",
   "execution_count": 54,
   "metadata": {},
   "outputs": [],
   "source": [
    "class Square:\n",
    "    def __init__(self,side):\n",
    "        self.side=side\n",
    "        \n",
    "    def __add__(squareOne, squareTwo):        #special method for addition. Overloaded addition operator so that python can know how to handle two square objects.\n",
    "        return((4*squareOne.side)+(4*squareTwo.side))"
   ]
  },
  {
   "cell_type": "code",
   "execution_count": 55,
   "metadata": {},
   "outputs": [
    {
     "name": "stdout",
     "output_type": "stream",
     "text": [
      "Sum of sides of two squares:  60\n"
     ]
    }
   ],
   "source": [
    "squareOne=Square(5)     #5*4=20\n",
    "squareTwo=Square(10)    #10*4=40\n",
    "print('Sum of sides of two squares: ', squareOne+squareTwo)"
   ]
  },
  {
   "cell_type": "markdown",
   "metadata": {},
   "source": [
    "We can overload any operator that we want. Just google the operator that we want to overload"
   ]
  },
  {
   "cell_type": "code",
   "execution_count": null,
   "metadata": {},
   "outputs": [],
   "source": []
  }
 ],
 "metadata": {
  "kernelspec": {
   "display_name": "Python 3",
   "language": "python",
   "name": "python3"
  },
  "language_info": {
   "codemirror_mode": {
    "name": "ipython",
    "version": 3
   },
   "file_extension": ".py",
   "mimetype": "text/x-python",
   "name": "python",
   "nbconvert_exporter": "python",
   "pygments_lexer": "ipython3",
   "version": "3.7.4"
  }
 },
 "nbformat": 4,
 "nbformat_minor": 2
}
