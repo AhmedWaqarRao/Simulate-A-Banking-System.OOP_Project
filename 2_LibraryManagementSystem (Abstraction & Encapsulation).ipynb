{
 "cells": [
  {
   "cell_type": "code",
   "execution_count": 1,
   "metadata": {},
   "outputs": [],
   "source": [
    "book=[]\n",
    "issuedbooks=[]"
   ]
  },
  {
   "cell_type": "code",
   "execution_count": 7,
   "metadata": {},
   "outputs": [],
   "source": [
    "class Staff:\n",
    "    \n",
    "    def addbooks(self):\n",
    "        \n",
    "        while True:\n",
    "            self.newbook=input('Enter the book to a database')\n",
    "            book.append(self.newbook)\n",
    "            print('Do you want to add another book?')\n",
    "            decision=input('Enter y or n: ')\n",
    "            if decision.lower()=='y':\n",
    "                continue\n",
    "            else:\n",
    "                break\n",
    "        \n",
    "    @staticmethod\n",
    "    def displaybooks():\n",
    "        print('Available Books: ')\n",
    "        for i in range(len(book)):\n",
    "            yield(book[i])\n",
    "            \n",
    "    @staticmethod\n",
    "    def displayissuedbooks():\n",
    "        print('Issued Books: ')\n",
    "        for i in range(len(issuedbooks)):\n",
    "            yield(issuedbooks[i])"
   ]
  },
  {
   "cell_type": "code",
   "execution_count": 12,
   "metadata": {},
   "outputs": [
    {
     "data": {
      "text/plain": [
       "['Urdu', 'Maths', 'Physics', 'Chemistry', 'Computer', 'Biology']"
      ]
     },
     "execution_count": 12,
     "metadata": {},
     "output_type": "execute_result"
    }
   ],
   "source": [
    "list(staff.displaybooks())"
   ]
  },
  {
   "cell_type": "code",
   "execution_count": 14,
   "metadata": {},
   "outputs": [
    {
     "data": {
      "text/plain": [
       "['English']"
      ]
     },
     "execution_count": 14,
     "metadata": {},
     "output_type": "execute_result"
    }
   ],
   "source": [
    "list(staff.displayissuedbooks())"
   ]
  },
  {
   "cell_type": "code",
   "execution_count": 8,
   "metadata": {},
   "outputs": [],
   "source": [
    "class Customer:\n",
    "    \n",
    "    def searchbook(self,bookavailable=False):\n",
    "        while True:\n",
    "            self.search=input('Enter the name of book you want to search ')\n",
    "            if self.search.capitalize() in book:\n",
    "                print('The book is available.')\n",
    "                self.bookavailable=True\n",
    "                Customer.borrowbook(self)\n",
    "                break\n",
    "            else:\n",
    "                print('Sorry! The book is not available.')\n",
    "                print('Do you want to search another book?')\n",
    "                decision2=input('Enter y or n: ')\n",
    "                if decision2.lower()=='y':\n",
    "                    continue\n",
    "                else:\n",
    "                    print('Thanks for visiting the library portal.')\n",
    "                    break\n",
    "                    \n",
    "    def borrowbook(self):\n",
    "        \n",
    "        if(self.bookavailable==True):\n",
    "            print('Do you want to borrow this book')\n",
    "            decision3=input('Enter y or n: ')\n",
    "            if(decision3.lower()=='y'):\n",
    "                print('This book has been issued to your name: ',self.search.capitalize())\n",
    "                issuedbooks.append(self.search.capitalize())\n",
    "                book.remove(self.search.capitalize())\n",
    "                        \n",
    "            else:\n",
    "                print('Do you want to search another book?')\n",
    "                decision4=input('Enter y or n: ')\n",
    "                if decision4.lower()=='y':\n",
    "                    Customer.searchbook(self)\n",
    "                print('Thanks for visiting the library portal.')\n",
    "                \n",
    "    def returnbook(self):\n",
    "        \n",
    "        self.returned=input('Enter the name of book you want to return: ')\n",
    "        if self.returned.capitalize() in issuedbooks:\n",
    "            print('Valid book')\n",
    "            book.append(self.returned.capitalize())\n",
    "            issuedbooks.remove(self.returned.capitalize())\n",
    "            print('You have returned the book: ', self.returned.capitalize())\n",
    "        else:\n",
    "            print('No such book is issued.')"
   ]
  },
  {
   "cell_type": "code",
   "execution_count": 9,
   "metadata": {},
   "outputs": [
    {
     "name": "stdout",
     "output_type": "stream",
     "text": [
      "\n",
      "\n",
      "Enter 1 to display all available books\n",
      "Enter 2 to search and borrow books\n",
      "Enter 3 to return books\n",
      "Enter 4 to add books to the library database(Staff Only)\n",
      "Enter 5 to display all the issued books (Staff Only)\n",
      "Enter 6 to exit\n",
      "\n",
      "\n",
      "Enter your choice: 1\n",
      "\n",
      "\n",
      "Available Books: \n",
      "English\n",
      "Biology\n",
      "Electric Circuits\n",
      "Linear Algebra\n",
      "Urdu\n",
      "\n",
      "\n",
      "Enter 1 to display all available books\n",
      "Enter 2 to search and borrow books\n",
      "Enter 3 to return books\n",
      "Enter 4 to add books to the library database(Staff Only)\n",
      "Enter 5 to display all the issued books (Staff Only)\n",
      "Enter 6 to exit\n",
      "\n",
      "\n",
      "Enter your choice: 5\n",
      "\n",
      "\n",
      "Issued Books: \n",
      "Computer\n",
      "\n",
      "\n",
      "Enter 1 to display all available books\n",
      "Enter 2 to search and borrow books\n",
      "Enter 3 to return books\n",
      "Enter 4 to add books to the library database(Staff Only)\n",
      "Enter 5 to display all the issued books (Staff Only)\n",
      "Enter 6 to exit\n",
      "\n",
      "\n",
      "Enter your choice: 6\n",
      "\n",
      "\n",
      "Thanks for visiting the library portal\n"
     ]
    }
   ],
   "source": [
    "staff=Staff()\n",
    "customer=Customer()\n",
    "\n",
    "while True:\n",
    "    \n",
    "    print('\\n')\n",
    "    print('Enter 1 to display all available books')\n",
    "    print('Enter 2 to search and borrow books')\n",
    "    print('Enter 3 to return books')\n",
    "    print('Enter 4 to add books to the library database(Staff Only)')\n",
    "    print('Enter 5 to display all the issued books (Staff Only)')\n",
    "    print('Enter 6 to exit')\n",
    "    \n",
    "    print('\\n')\n",
    "    userchoice=int(input('Enter your choice: '))\n",
    "    print('\\n')\n",
    "    \n",
    "    if userchoice is 1:\n",
    "        for x in staff.displaybooks():\n",
    "            print(x)\n",
    "        \n",
    "    elif userchoice is 2:\n",
    "        customer.searchbook()\n",
    "        \n",
    "    elif userchoice is 3:\n",
    "        customer.returnbook()\n",
    "        \n",
    "    elif userchoice is 4:\n",
    "        staff.addbooks()\n",
    "        \n",
    "    elif userchoice is 5:\n",
    "        for i in staff.displayissuedbooks():\n",
    "            print(i)\n",
    "            \n",
    "    elif userchoice is 6:\n",
    "        print('Thanks for visiting the library portal')\n",
    "        break"
   ]
  },
  {
   "cell_type": "code",
   "execution_count": null,
   "metadata": {},
   "outputs": [],
   "source": []
  }
 ],
 "metadata": {
  "kernelspec": {
   "display_name": "Python 3",
   "language": "python",
   "name": "python3"
  },
  "language_info": {
   "codemirror_mode": {
    "name": "ipython",
    "version": 3
   },
   "file_extension": ".py",
   "mimetype": "text/x-python",
   "name": "python",
   "nbconvert_exporter": "python",
   "pygments_lexer": "ipython3",
   "version": "3.7.4"
  }
 },
 "nbformat": 4,
 "nbformat_minor": 2
}
